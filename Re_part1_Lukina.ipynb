{
 "cells": [
  {
   "cell_type": "markdown",
   "id": "8113ab70",
   "metadata": {
    "toc": true
   },
   "source": [
    "<h1>Table of Contents<span class=\"tocSkip\"></span></h1>\n",
    "<div class=\"toc\"><ul class=\"toc-item\"><li><span><a href=\"#Откроем-и-изучим-данные\" data-toc-modified-id=\"Откроем-и-изучим-данные-1\"><span class=\"toc-item-num\">1&nbsp;&nbsp;</span><strong>Откроем и изучим данные</strong></a></span><ul class=\"toc-item\"><li><span><a href=\"#Откроем-файл-с-данными-о-заказах\" data-toc-modified-id=\"Откроем-файл-с-данными-о-заказах-1.1\"><span class=\"toc-item-num\">1.1&nbsp;&nbsp;</span>Откроем файл с данными о заказах</a></span><ul class=\"toc-item\"><li><span><a href=\"#Проверим-на-наличие-пропущенных-значений\" data-toc-modified-id=\"Проверим-на-наличие-пропущенных-значений-1.1.1\"><span class=\"toc-item-num\">1.1.1&nbsp;&nbsp;</span>Проверим на наличие пропущенных значений</a></span></li><li><span><a href=\"#Изучим-столбцы-с-большим-процентом-пропущенных-значений\" data-toc-modified-id=\"Изучим-столбцы-с-большим-процентом-пропущенных-значений-1.1.2\"><span class=\"toc-item-num\">1.1.2&nbsp;&nbsp;</span>Изучим столбцы с большим процентом пропущенных значений</a></span><ul class=\"toc-item\"><li><span><a href=\"#Удалим-столбцы,-дающие-утечку-целевого-признака\" data-toc-modified-id=\"Удалим-столбцы,-дающие-утечку-целевого-признака-1.1.2.1\"><span class=\"toc-item-num\">1.1.2.1&nbsp;&nbsp;</span>Удалим столбцы, дающие утечку целевого признака</a></span></li><li><span><a href=\"#Изучим-столбец-creator_id\" data-toc-modified-id=\"Изучим-столбец-creator_id-1.1.2.2\"><span class=\"toc-item-num\">1.1.2.2&nbsp;&nbsp;</span>Изучим столбец creator_id</a></span></li></ul></li><li><span><a href=\"#Изучим-столбцы-c-текстовой-формацией-purpose-и-add_info\" data-toc-modified-id=\"Изучим-столбцы-c-текстовой-формацией-purpose-и-add_info-1.1.3\"><span class=\"toc-item-num\">1.1.3&nbsp;&nbsp;</span>Изучим столбцы c текстовой формацией purpose и add_info</a></span><ul class=\"toc-item\"><li><span><a href=\"#Обработаем-столбец-add_info_new\" data-toc-modified-id=\"Обработаем-столбец-add_info_new-1.1.3.1\"><span class=\"toc-item-num\">1.1.3.1&nbsp;&nbsp;</span>Обработаем столбец add_info_new</a></span></li><li><span><a href=\"#Обработаем-столбец-purpose_new\" data-toc-modified-id=\"Обработаем-столбец-purpose_new-1.1.3.2\"><span class=\"toc-item-num\">1.1.3.2&nbsp;&nbsp;</span>Обработаем столбец purpose_new</a></span></li></ul></li><li><span><a href=\"#Определим-столбец-target-и-проставим-оплату,-если-status_id-5,6,13,15\" data-toc-modified-id=\"Определим-столбец-target-и-проставим-оплату,-если-status_id-5,6,13,15-1.1.4\"><span class=\"toc-item-num\">1.1.4&nbsp;&nbsp;</span>Определим столбец target и проставим оплату, если status_id 5,6,13,15</a></span></li><li><span><a href=\"#Проверим-данные-на-наличие-дублей\" data-toc-modified-id=\"Проверим-данные-на-наличие-дублей-1.1.5\"><span class=\"toc-item-num\">1.1.5&nbsp;&nbsp;</span>Проверим данные на наличие дублей</a></span><ul class=\"toc-item\"><li><span><a href=\"#Удалим-дубликаты-по-столбцам-id-и-original_order_id.\" data-toc-modified-id=\"Удалим-дубликаты-по-столбцам-id-и-original_order_id.-1.1.5.1\"><span class=\"toc-item-num\">1.1.5.1&nbsp;&nbsp;</span>Удалим дубликаты по столбцам id и original_order_id.</a></span></li></ul></li><li><span><a href=\"#Удалим--столбцы-order_date-и-start_date-как-неинформативные.\" data-toc-modified-id=\"Удалим--столбцы-order_date-и-start_date-как-неинформативные.-1.1.6\"><span class=\"toc-item-num\">1.1.6&nbsp;&nbsp;</span>Удалим  столбцы order_date и start_date как неинформативные.</a></span></li><li><span><a href=\"#Заполним-пропуски-и-приведем-тип-данных-к-соответсвующему\" data-toc-modified-id=\"Заполним-пропуски-и-приведем-тип-данных-к-соответсвующему-1.1.7\"><span class=\"toc-item-num\">1.1.7&nbsp;&nbsp;</span>Заполним пропуски и приведем тип данных к соответсвующему</a></span></li><li><span><a href=\"#Проверим-данные-на-выпадающие-значения\" data-toc-modified-id=\"Проверим-данные-на-выпадающие-значения-1.1.8\"><span class=\"toc-item-num\">1.1.8&nbsp;&nbsp;</span>Проверим данные на выпадающие значения</a></span></li></ul></li></ul></li></ul></div>"
   ]
  },
  {
   "cell_type": "markdown",
   "id": "e803c8e1",
   "metadata": {},
   "source": [
    "# Построение ML-продукта для оптимизации классификации заявок на оплату для сервиса Repetit.ru"
   ]
  },
  {
   "cell_type": "markdown",
   "id": "d00fb91b-af46-4f88-9a4d-526bd9f4fd75",
   "metadata": {},
   "source": [
    "**Описание проекта:** сервис Repetit.ru работает с большим количеством заявок от клиентов с данными о предмете, желаемой стоимости, возрасте ученика, целью занятий и тд. 7 из 8 заявок не доходят до оплаты, при этом обработка заявки консультантом увеличивает конверсию в оплату на 30%. \n",
    "Чем больше заявок — тем меньше конверсия, так как консультанты тратят время на бесперспективные заявки."
   ]
  },
  {
   "cell_type": "markdown",
   "id": "b5c34d7b",
   "metadata": {},
   "source": [
    "**Цель проекта**: разработать модель, которая по имеющейся информации о клиенте и заявке будет предсказывать вероятность оплаты заявки клиентом и помогать консультантам обрабатывать в первую очередь преспективные заявки.\n",
    "    \n",
    "    \n",
    "    "
   ]
  },
  {
   "cell_type": "markdown",
   "id": "e69d6879-7125-4d22-b78e-8e847b0e2de9",
   "metadata": {},
   "source": [
    "**Шаги проекта:**\n",
    "\n",
    "- проведение первичного анализ данных\n",
    "- очистка и предобработка данных\n",
    "- подбор гиперпараметров и обучение модели CatBoostC\n",
    "- проверка наилучшей модели на тестовой выборке\n",
    "- анализ важности факторов для наилучшей модели\n",
    "- проверка модели на адекватность\n",
    "- выводы"
   ]
  },
  {
   "cell_type": "markdown",
   "id": "a19b4dd7-7230-4955-8c75-f973c9997c79",
   "metadata": {},
   "source": [
    "Данная тетрадка - первая из трех. Она содержит следующие шаги проекта:\n",
    "- изучение данных о заказах\n",
    "- очистка данных от пропущенных значений, дублей, приведение типов данных к соответвующему\n",
    "- обработка текстовых колонок (создание эмбедингов, кластеризация эмбедингов)\n",
    "- обработка целевого признака\n",
    "- сохранение таблицы с обработанными данными для последующего объединения с данными об учителях\n",
    "\n",
    "В связи с ограничениями по объему опретивной памяти - некоторые строки закомментированы, используется минимум визуализации (к сожалению)."
   ]
  },
  {
   "cell_type": "code",
   "execution_count": 1,
   "id": "f42c0cc2",
   "metadata": {},
   "outputs": [],
   "source": [
    "#pip install feather-format"
   ]
  },
  {
   "cell_type": "code",
   "execution_count": 2,
   "id": "1090efd4",
   "metadata": {},
   "outputs": [],
   "source": [
    "#pip install pyarrow"
   ]
  },
  {
   "cell_type": "code",
   "execution_count": 3,
   "id": "7b0782a4",
   "metadata": {},
   "outputs": [],
   "source": [
    "import pandas as pd\n",
    "import matplotlib.pyplot as plt\n",
    "import seaborn as sns\n",
    "import re\n",
    "import time\n",
    "import requests\n",
    "from tqdm import tqdm\n",
    "from sentence_transformers import SentenceTransformer\n",
    "import numpy as np\n",
    "from sklearn.cluster import KMeans \n",
    "from sklearn import cluster\n",
    "from nltk.cluster import KMeansClusterer\n",
    "import nltk\n",
    "from sklearn.decomposition import PCA\n",
    "from sklearn.cluster import AgglomerativeClustering"
   ]
  },
  {
   "cell_type": "markdown",
   "id": "361b99dc",
   "metadata": {},
   "source": [
    "## Откроем файл с данными о заказах"
   ]
  },
  {
   "cell_type": "code",
   "execution_count": 4,
   "id": "3aa128b8",
   "metadata": {},
   "outputs": [],
   "source": [
    "try:\n",
    "    data_ord = pd.read_feather('orders.feather')\n",
    "except:\n",
    "\n",
    "    data_ord = pd.read_feather('/datasets/orders.feather')  "
   ]
  },
  {
   "cell_type": "code",
   "execution_count": 5,
   "id": "2bd23c72",
   "metadata": {},
   "outputs": [],
   "source": [
    "#pd.set_option('display.max_colwidth', None)\n",
    "pd.set_option('display.max_columns', None)"
   ]
  },
  {
   "cell_type": "code",
   "execution_count": 200,
   "id": "4671bc2b",
   "metadata": {},
   "outputs": [],
   "source": [
    "#data_ord.head()"
   ]
  },
  {
   "cell_type": "code",
   "execution_count": 201,
   "id": "e04a05c2",
   "metadata": {},
   "outputs": [],
   "source": [
    "#data_ord.sample(10)"
   ]
  },
  {
   "cell_type": "code",
   "execution_count": 8,
   "id": "6898c535",
   "metadata": {},
   "outputs": [
    {
     "name": "stdout",
     "output_type": "stream",
     "text": [
      "<class 'pandas.core.frame.DataFrame'>\n",
      "Int64Index: 1191861 entries, 0 to 437216\n",
      "Data columns (total 38 columns):\n",
      " #   Column                   Non-Null Count    Dtype  \n",
      "---  ------                   --------------    -----  \n",
      " 0   id                       1191861 non-null  int32  \n",
      " 1   order_date               1191861 non-null  object \n",
      " 2   subject_id               1181529 non-null  float32\n",
      " 3   purpose                  1025351 non-null  object \n",
      " 4   lesson_price             1191861 non-null  int32  \n",
      " 5   lesson_duration          1191861 non-null  int32  \n",
      " 6   lesson_place             31 non-null       object \n",
      " 7   home_metro_id            642447 non-null   float32\n",
      " 8   add_info                 1044688 non-null  object \n",
      " 9   start_date               705578 non-null   object \n",
      " 10  working_teacher_id       705988 non-null   float32\n",
      " 11  status_id                1191861 non-null  int32  \n",
      " 12  comments                 341468 non-null   object \n",
      " 13  prefered_teacher_id      4 non-null        float32\n",
      " 14  amount_to_pay            1191861 non-null  object \n",
      " 15  planned_lesson_number    1191861 non-null  int32  \n",
      " 16  first_lesson_date        166571 non-null   object \n",
      " 17  creator_id               579698 non-null   float32\n",
      " 18  pupil_category_new_id    1032470 non-null  float32\n",
      " 19  lessons_per_week         1191861 non-null  int32  \n",
      " 20  minimal_price            1191861 non-null  int32  \n",
      " 21  teacher_sex              1191861 non-null  int32  \n",
      " 22  teacher_experience_from  1191861 non-null  int32  \n",
      " 23  teacher_experience_to    1191861 non-null  int32  \n",
      " 24  lesson_place_new         1191861 non-null  int32  \n",
      " 25  pupil_knowledgelvl       1191861 non-null  int32  \n",
      " 26  teacher_age_from         1191861 non-null  int32  \n",
      " 27  teacher_age_to           1191861 non-null  int32  \n",
      " 28  chosen_teachers_only     1191861 non-null  int8   \n",
      " 29  no_teachers_available    1191861 non-null  int8   \n",
      " 30  source_id                1191861 non-null  int32  \n",
      " 31  original_order_id        582588 non-null   float32\n",
      " 32  client_id                1191861 non-null  int32  \n",
      " 33  additional_status_id     1042385 non-null  float32\n",
      " 34  max_metro_distance       13518 non-null    float32\n",
      " 35  estimated_fee            747152 non-null   object \n",
      " 36  payment_date             129665 non-null   object \n",
      " 37  is_display_to_teachers   1191861 non-null  int8   \n",
      "dtypes: float32(9), int32(16), int8(3), object(10)\n",
      "memory usage: 217.1+ MB\n"
     ]
    }
   ],
   "source": [
    "data_ord.info()"
   ]
  },
  {
   "cell_type": "code",
   "execution_count": 9,
   "id": "3a3be98e",
   "metadata": {},
   "outputs": [],
   "source": [
    "#data_ord.describe()"
   ]
  },
  {
   "cell_type": "markdown",
   "id": "958b1757",
   "metadata": {},
   "source": [
    "### Проверим на наличие пропущенных значений"
   ]
  },
  {
   "cell_type": "code",
   "execution_count": 10,
   "id": "ac23bb96",
   "metadata": {},
   "outputs": [
    {
     "data": {
      "text/plain": [
       "id                               0\n",
       "order_date                       0\n",
       "subject_id                   10332\n",
       "purpose                     166510\n",
       "lesson_price                     0\n",
       "lesson_duration                  0\n",
       "lesson_place               1191830\n",
       "home_metro_id               549414\n",
       "add_info                    147173\n",
       "start_date                  486283\n",
       "working_teacher_id          485873\n",
       "status_id                        0\n",
       "comments                    850393\n",
       "prefered_teacher_id        1191857\n",
       "amount_to_pay                    0\n",
       "planned_lesson_number            0\n",
       "first_lesson_date          1025290\n",
       "creator_id                  612163\n",
       "pupil_category_new_id       159391\n",
       "lessons_per_week                 0\n",
       "minimal_price                    0\n",
       "teacher_sex                      0\n",
       "teacher_experience_from          0\n",
       "teacher_experience_to            0\n",
       "lesson_place_new                 0\n",
       "pupil_knowledgelvl               0\n",
       "teacher_age_from                 0\n",
       "teacher_age_to                   0\n",
       "chosen_teachers_only             0\n",
       "no_teachers_available            0\n",
       "source_id                        0\n",
       "original_order_id           609273\n",
       "client_id                        0\n",
       "additional_status_id        149476\n",
       "max_metro_distance         1178343\n",
       "estimated_fee               444709\n",
       "payment_date               1062196\n",
       "is_display_to_teachers           0\n",
       "dtype: int64"
      ]
     },
     "execution_count": 10,
     "metadata": {},
     "output_type": "execute_result"
    }
   ],
   "source": [
    "data_ord.isna().sum()"
   ]
  },
  {
   "cell_type": "markdown",
   "id": "3992f4c6",
   "metadata": {},
   "source": [
    "Посчитаем процент пропущенных значений и выведем колонки с наибольшим процентом пропусков в порядке убывания"
   ]
  },
  {
   "cell_type": "code",
   "execution_count": 11,
   "id": "1cfe6e38",
   "metadata": {},
   "outputs": [],
   "source": [
    "def missing(data):\n",
    "    missed_data = (data.isna().sum().sort_values(ascending = False).reset_index())\n",
    "    #print(missed_data, '\\n', '\\n')\n",
    "    for index, i in enumerate(missed_data.loc[:, 0]):\n",
    "            if i > 0:\n",
    "                print(missed_data.loc[index, 'index'], ' -- ', i/len(data)*100, 'процент пропусков', '\\n')\n",
    "    return"
   ]
  },
  {
   "cell_type": "code",
   "execution_count": 12,
   "id": "39517080",
   "metadata": {},
   "outputs": [
    {
     "name": "stdout",
     "output_type": "stream",
     "text": [
      "prefered_teacher_id  --  99.99966439039451 процент пропусков \n",
      "\n",
      "lesson_place  --  99.99739902555751 процент пропусков \n",
      "\n",
      "max_metro_distance  --  98.86580733827182 процент пропусков \n",
      "\n",
      "payment_date  --  89.1207951262773 процент пропусков \n",
      "\n",
      "first_lesson_date  --  86.02429310129284 процент пропусков \n",
      "\n",
      "comments  --  71.35001480877385 процент пропусков \n",
      "\n",
      "creator_id  --  51.36194573024875 процент пропусков \n",
      "\n",
      "original_order_id  --  51.11946779028762 процент пропусков \n",
      "\n",
      "home_metro_id  --  46.097153946643104 процент пропусков \n",
      "\n",
      "start_date  --  40.80031144571389 процент пропусков \n",
      "\n",
      "working_teacher_id  --  40.76591146115193 процент пропусков \n",
      "\n",
      "estimated_fee  --  37.31215301113133 процент пропусков \n",
      "\n",
      "purpose  --  13.970588852223539 процент пропусков \n",
      "\n",
      "pupil_category_new_id  --  13.373287656866026 процент пропусков \n",
      "\n",
      "additional_status_id  --  12.541395347276236 процент пропусков \n",
      "\n",
      "add_info  --  12.348168116919675 процент пропусков \n",
      "\n",
      "subject_id  --  0.8668796109613454 процент пропусков \n",
      "\n"
     ]
    }
   ],
   "source": [
    "missing(data_ord) "
   ]
  },
  {
   "cell_type": "code",
   "execution_count": 13,
   "id": "d29213c0",
   "metadata": {},
   "outputs": [],
   "source": [
    "#data_ord['max_metro_distance'] = data_ord['max_metro_distance'].fillna(0)"
   ]
  },
  {
   "cell_type": "code",
   "execution_count": 14,
   "id": "d7467291",
   "metadata": {},
   "outputs": [],
   "source": [
    "#data_ord.loc[data_ord['max_metro_distance'] != 0]"
   ]
  },
  {
   "cell_type": "markdown",
   "id": "1085e41a",
   "metadata": {},
   "source": [
    "### Изучим столбцы с большим процентом пропущенных значений"
   ]
  },
  {
   "cell_type": "markdown",
   "id": "b4c81949",
   "metadata": {},
   "source": [
    "Столбец **prefered_teacher_id** предлагаем **удалить** из-за очень большого количества пропусков, также как столбцы **lesson_place** и **max_metro_distance**. Столбцы **payment_date и first_lesson_date** из \"будущего\" и указывают на факт оплаты, кроме того, они также имеют большое количество пропусков - их также предлагается **удалить**."
   ]
  },
  {
   "cell_type": "code",
   "execution_count": 15,
   "id": "b8d2c279",
   "metadata": {},
   "outputs": [],
   "source": [
    "data_ord = data_ord.drop(columns=['prefered_teacher_id', 'lesson_place',  'max_metro_distance', 'payment_date', \n",
    "                                  'first_lesson_date', 'amount_to_pay'], axis=1)"
   ]
  },
  {
   "cell_type": "markdown",
   "id": "8357f6df",
   "metadata": {},
   "source": [
    "##### Удалим столбцы, дающие утечку целевого признака"
   ]
  },
  {
   "cell_type": "code",
   "execution_count": 16,
   "id": "d1310649",
   "metadata": {},
   "outputs": [],
   "source": [
    "data_ord = data_ord.drop(columns=['comments', 'estimated_fee', 'working_teacher_id', \n",
    "                                  'additional_status_id', 'start_date'], axis=1)"
   ]
  },
  {
   "cell_type": "markdown",
   "id": "cf425556",
   "metadata": {},
   "source": [
    "##### Изучим столбец creator_id"
   ]
  },
  {
   "cell_type": "code",
   "execution_count": 17,
   "id": "4383343f",
   "metadata": {},
   "outputs": [
    {
     "data": {
      "text/plain": [
       "Text(0, 0.5, 'Количество заявок')"
      ]
     },
     "execution_count": 17,
     "metadata": {},
     "output_type": "execute_result"
    },
    {
     "data": {
      "image/png": "[encoded data removed]",
      "text/plain": [
       "<Figure size 2000x300 with 1 Axes>"
      ]
     },
     "metadata": {},
     "output_type": "display_data"
    }
   ],
   "source": [
    "fig = plt.figure(figsize=(20,3))\n",
    "#ax = fig.gca()\n",
    "\n",
    "plt.hist(data_ord['creator_id'], edgecolor='black', bins = 50)\n",
    "plt.title('creator_id')\n",
    "plt.xlabel('id')\n",
    "plt.ylabel('Количество заявок')"
   ]
  },
  {
   "cell_type": "markdown",
   "id": "1b099316",
   "metadata": {},
   "source": [
    "Оценим количество заявок, созданных разными creator_id."
   ]
  },
  {
   "cell_type": "code",
   "execution_count": 18,
   "id": "73febf8e",
   "metadata": {},
   "outputs": [
    {
     "data": {
      "text/plain": [
       "47749.0      47312\n",
       "1509.0       20376\n",
       "526125.0     13000\n",
       "256616.0     12774\n",
       "304610.0     12451\n",
       "             ...  \n",
       "1290728.0        1\n",
       "1290726.0        1\n",
       "1290735.0        1\n",
       "1171838.0        1\n",
       "3605505.0        1\n",
       "Name: creator_id, Length: 107753, dtype: int64"
      ]
     },
     "execution_count": 18,
     "metadata": {},
     "output_type": "execute_result"
    }
   ],
   "source": [
    "cid = data_ord['creator_id'].value_counts()\n",
    "cid"
   ]
  },
  {
   "cell_type": "code",
   "execution_count": 19,
   "id": "a5edf336",
   "metadata": {},
   "outputs": [
    {
     "data": {
      "text/plain": [
       "count    107753.000000\n",
       "mean          5.379878\n",
       "std         211.191853\n",
       "min           1.000000\n",
       "25%           1.000000\n",
       "50%           1.000000\n",
       "75%           2.000000\n",
       "max       47312.000000\n",
       "Name: creator_id, dtype: float64"
      ]
     },
     "execution_count": 19,
     "metadata": {},
     "output_type": "execute_result"
    }
   ],
   "source": [
    "cid.describe()"
   ]
  },
  {
   "cell_type": "markdown",
   "id": "53fd8153",
   "metadata": {},
   "source": [
    "Таким образом, мы видим, что более 75% заявок созданы лицами в размере 1 и 2 штук. Предполагаем, что id, которые встречаются не более 10 раз - это ученики, больше раз - это сотрудники."
   ]
  },
  {
   "cell_type": "code",
   "execution_count": 20,
   "id": "02f695bf",
   "metadata": {},
   "outputs": [
    {
     "data": {
      "text/html": [
       "<div>\n",
       "<style scoped>\n",
       "    .dataframe tbody tr th:only-of-type {\n",
       "        vertical-align: middle;\n",
       "    }\n",
       "\n",
       "    .dataframe tbody tr th {\n",
       "        vertical-align: top;\n",
       "    }\n",
       "\n",
       "    .dataframe thead th {\n",
       "        text-align: right;\n",
       "    }\n",
       "</style>\n",
       "<table border=\"1\" class=\"dataframe\">\n",
       "  <thead>\n",
       "    <tr style=\"text-align: right;\">\n",
       "      <th></th>\n",
       "      <th>index</th>\n",
       "      <th>creator_id</th>\n",
       "    </tr>\n",
       "  </thead>\n",
       "  <tbody>\n",
       "    <tr>\n",
       "      <th>0</th>\n",
       "      <td>47749.0</td>\n",
       "      <td>47312</td>\n",
       "    </tr>\n",
       "    <tr>\n",
       "      <th>1</th>\n",
       "      <td>1509.0</td>\n",
       "      <td>20376</td>\n",
       "    </tr>\n",
       "    <tr>\n",
       "      <th>2</th>\n",
       "      <td>526125.0</td>\n",
       "      <td>13000</td>\n",
       "    </tr>\n",
       "    <tr>\n",
       "      <th>3</th>\n",
       "      <td>256616.0</td>\n",
       "      <td>12774</td>\n",
       "    </tr>\n",
       "    <tr>\n",
       "      <th>4</th>\n",
       "      <td>304610.0</td>\n",
       "      <td>12451</td>\n",
       "    </tr>\n",
       "    <tr>\n",
       "      <th>...</th>\n",
       "      <td>...</td>\n",
       "      <td>...</td>\n",
       "    </tr>\n",
       "    <tr>\n",
       "      <th>107748</th>\n",
       "      <td>1290728.0</td>\n",
       "      <td>1</td>\n",
       "    </tr>\n",
       "    <tr>\n",
       "      <th>107749</th>\n",
       "      <td>1290726.0</td>\n",
       "      <td>1</td>\n",
       "    </tr>\n",
       "    <tr>\n",
       "      <th>107750</th>\n",
       "      <td>1290735.0</td>\n",
       "      <td>1</td>\n",
       "    </tr>\n",
       "    <tr>\n",
       "      <th>107751</th>\n",
       "      <td>1171838.0</td>\n",
       "      <td>1</td>\n",
       "    </tr>\n",
       "    <tr>\n",
       "      <th>107752</th>\n",
       "      <td>3605505.0</td>\n",
       "      <td>1</td>\n",
       "    </tr>\n",
       "  </tbody>\n",
       "</table>\n",
       "<p>107753 rows × 2 columns</p>\n",
       "</div>"
      ],
      "text/plain": [
       "            index  creator_id\n",
       "0         47749.0       47312\n",
       "1          1509.0       20376\n",
       "2        526125.0       13000\n",
       "3        256616.0       12774\n",
       "4        304610.0       12451\n",
       "...           ...         ...\n",
       "107748  1290728.0           1\n",
       "107749  1290726.0           1\n",
       "107750  1290735.0           1\n",
       "107751  1171838.0           1\n",
       "107752  3605505.0           1\n",
       "\n",
       "[107753 rows x 2 columns]"
      ]
     },
     "execution_count": 20,
     "metadata": {},
     "output_type": "execute_result"
    }
   ],
   "source": [
    "cid = cid.reset_index()\n",
    "cid"
   ]
  },
  {
   "cell_type": "code",
   "execution_count": 21,
   "id": "645b8590",
   "metadata": {},
   "outputs": [
    {
     "data": {
      "text/html": [
       "<div>\n",
       "<style scoped>\n",
       "    .dataframe tbody tr th:only-of-type {\n",
       "        vertical-align: middle;\n",
       "    }\n",
       "\n",
       "    .dataframe tbody tr th {\n",
       "        vertical-align: top;\n",
       "    }\n",
       "\n",
       "    .dataframe thead th {\n",
       "        text-align: right;\n",
       "    }\n",
       "</style>\n",
       "<table border=\"1\" class=\"dataframe\">\n",
       "  <thead>\n",
       "    <tr style=\"text-align: right;\">\n",
       "      <th></th>\n",
       "      <th>creator_id</th>\n",
       "      <th>amount</th>\n",
       "    </tr>\n",
       "  </thead>\n",
       "  <tbody>\n",
       "    <tr>\n",
       "      <th>0</th>\n",
       "      <td>47749.0</td>\n",
       "      <td>47312</td>\n",
       "    </tr>\n",
       "    <tr>\n",
       "      <th>1</th>\n",
       "      <td>1509.0</td>\n",
       "      <td>20376</td>\n",
       "    </tr>\n",
       "    <tr>\n",
       "      <th>2</th>\n",
       "      <td>526125.0</td>\n",
       "      <td>13000</td>\n",
       "    </tr>\n",
       "    <tr>\n",
       "      <th>3</th>\n",
       "      <td>256616.0</td>\n",
       "      <td>12774</td>\n",
       "    </tr>\n",
       "    <tr>\n",
       "      <th>4</th>\n",
       "      <td>304610.0</td>\n",
       "      <td>12451</td>\n",
       "    </tr>\n",
       "    <tr>\n",
       "      <th>...</th>\n",
       "      <td>...</td>\n",
       "      <td>...</td>\n",
       "    </tr>\n",
       "    <tr>\n",
       "      <th>107748</th>\n",
       "      <td>1290728.0</td>\n",
       "      <td>1</td>\n",
       "    </tr>\n",
       "    <tr>\n",
       "      <th>107749</th>\n",
       "      <td>1290726.0</td>\n",
       "      <td>1</td>\n",
       "    </tr>\n",
       "    <tr>\n",
       "      <th>107750</th>\n",
       "      <td>1290735.0</td>\n",
       "      <td>1</td>\n",
       "    </tr>\n",
       "    <tr>\n",
       "      <th>107751</th>\n",
       "      <td>1171838.0</td>\n",
       "      <td>1</td>\n",
       "    </tr>\n",
       "    <tr>\n",
       "      <th>107752</th>\n",
       "      <td>3605505.0</td>\n",
       "      <td>1</td>\n",
       "    </tr>\n",
       "  </tbody>\n",
       "</table>\n",
       "<p>107753 rows × 2 columns</p>\n",
       "</div>"
      ],
      "text/plain": [
       "        creator_id  amount\n",
       "0          47749.0   47312\n",
       "1           1509.0   20376\n",
       "2         526125.0   13000\n",
       "3         256616.0   12774\n",
       "4         304610.0   12451\n",
       "...            ...     ...\n",
       "107748   1290728.0       1\n",
       "107749   1290726.0       1\n",
       "107750   1290735.0       1\n",
       "107751   1171838.0       1\n",
       "107752   3605505.0       1\n",
       "\n",
       "[107753 rows x 2 columns]"
      ]
     },
     "execution_count": 21,
     "metadata": {},
     "output_type": "execute_result"
    }
   ],
   "source": [
    "cid = cid.rename(columns={'index': 'creator_id', 'creator_id': 'amount'})\n",
    "cid"
   ]
  },
  {
   "cell_type": "markdown",
   "id": "0bd90e58",
   "metadata": {},
   "source": [
    "Таким образом, предлагаем пропуски заполнить 0, заявки учеников (т.е. те, которых меньше 10) - 1, остальные заявки - 2 (предполагая, что это заявки, созданные сотрудниками)."
   ]
  },
  {
   "cell_type": "code",
   "execution_count": 22,
   "id": "45785a70",
   "metadata": {},
   "outputs": [],
   "source": [
    "for i in range(len(cid['creator_id'])):\n",
    "    if cid.loc[i, 'amount'] > 10:\n",
    "        cid.loc[i, 'creator_id_new'] = 2\n",
    "    else:\n",
    "        cid.loc[i, 'creator_id_new'] = 1"
   ]
  },
  {
   "cell_type": "code",
   "execution_count": 23,
   "id": "147c1f6b-a125-4aca-8c1b-0acad29f0015",
   "metadata": {},
   "outputs": [
    {
     "data": {
      "text/html": [
       "<div>\n",
       "<style scoped>\n",
       "    .dataframe tbody tr th:only-of-type {\n",
       "        vertical-align: middle;\n",
       "    }\n",
       "\n",
       "    .dataframe tbody tr th {\n",
       "        vertical-align: top;\n",
       "    }\n",
       "\n",
       "    .dataframe thead th {\n",
       "        text-align: right;\n",
       "    }\n",
       "</style>\n",
       "<table border=\"1\" class=\"dataframe\">\n",
       "  <thead>\n",
       "    <tr style=\"text-align: right;\">\n",
       "      <th></th>\n",
       "      <th>creator_id</th>\n",
       "      <th>amount</th>\n",
       "      <th>creator_id_new</th>\n",
       "    </tr>\n",
       "  </thead>\n",
       "  <tbody>\n",
       "    <tr>\n",
       "      <th>0</th>\n",
       "      <td>47749.0</td>\n",
       "      <td>47312</td>\n",
       "      <td>2.0</td>\n",
       "    </tr>\n",
       "    <tr>\n",
       "      <th>1</th>\n",
       "      <td>1509.0</td>\n",
       "      <td>20376</td>\n",
       "      <td>2.0</td>\n",
       "    </tr>\n",
       "    <tr>\n",
       "      <th>2</th>\n",
       "      <td>526125.0</td>\n",
       "      <td>13000</td>\n",
       "      <td>2.0</td>\n",
       "    </tr>\n",
       "    <tr>\n",
       "      <th>3</th>\n",
       "      <td>256616.0</td>\n",
       "      <td>12774</td>\n",
       "      <td>2.0</td>\n",
       "    </tr>\n",
       "    <tr>\n",
       "      <th>4</th>\n",
       "      <td>304610.0</td>\n",
       "      <td>12451</td>\n",
       "      <td>2.0</td>\n",
       "    </tr>\n",
       "    <tr>\n",
       "      <th>...</th>\n",
       "      <td>...</td>\n",
       "      <td>...</td>\n",
       "      <td>...</td>\n",
       "    </tr>\n",
       "    <tr>\n",
       "      <th>107748</th>\n",
       "      <td>1290728.0</td>\n",
       "      <td>1</td>\n",
       "      <td>1.0</td>\n",
       "    </tr>\n",
       "    <tr>\n",
       "      <th>107749</th>\n",
       "      <td>1290726.0</td>\n",
       "      <td>1</td>\n",
       "      <td>1.0</td>\n",
       "    </tr>\n",
       "    <tr>\n",
       "      <th>107750</th>\n",
       "      <td>1290735.0</td>\n",
       "      <td>1</td>\n",
       "      <td>1.0</td>\n",
       "    </tr>\n",
       "    <tr>\n",
       "      <th>107751</th>\n",
       "      <td>1171838.0</td>\n",
       "      <td>1</td>\n",
       "      <td>1.0</td>\n",
       "    </tr>\n",
       "    <tr>\n",
       "      <th>107752</th>\n",
       "      <td>3605505.0</td>\n",
       "      <td>1</td>\n",
       "      <td>1.0</td>\n",
       "    </tr>\n",
       "  </tbody>\n",
       "</table>\n",
       "<p>107753 rows × 3 columns</p>\n",
       "</div>"
      ],
      "text/plain": [
       "        creator_id  amount  creator_id_new\n",
       "0          47749.0   47312             2.0\n",
       "1           1509.0   20376             2.0\n",
       "2         526125.0   13000             2.0\n",
       "3         256616.0   12774             2.0\n",
       "4         304610.0   12451             2.0\n",
       "...            ...     ...             ...\n",
       "107748   1290728.0       1             1.0\n",
       "107749   1290726.0       1             1.0\n",
       "107750   1290735.0       1             1.0\n",
       "107751   1171838.0       1             1.0\n",
       "107752   3605505.0       1             1.0\n",
       "\n",
       "[107753 rows x 3 columns]"
      ]
     },
     "execution_count": 23,
     "metadata": {},
     "output_type": "execute_result"
    }
   ],
   "source": [
    "cid"
   ]
  },
  {
   "cell_type": "code",
   "execution_count": 24,
   "id": "113e5ad6",
   "metadata": {},
   "outputs": [],
   "source": [
    "cid.drop('amount', axis= 1 , inplace= True )"
   ]
  },
  {
   "cell_type": "code",
   "execution_count": 25,
   "id": "0faff1c6",
   "metadata": {},
   "outputs": [
    {
     "name": "stdout",
     "output_type": "stream",
     "text": [
      "<class 'pandas.core.frame.DataFrame'>\n",
      "Int64Index: 1191861 entries, 0 to 1191860\n",
      "Data columns (total 28 columns):\n",
      " #   Column                   Non-Null Count    Dtype  \n",
      "---  ------                   --------------    -----  \n",
      " 0   id                       1191861 non-null  int32  \n",
      " 1   order_date               1191861 non-null  object \n",
      " 2   subject_id               1181529 non-null  float32\n",
      " 3   purpose                  1025351 non-null  object \n",
      " 4   lesson_price             1191861 non-null  int32  \n",
      " 5   lesson_duration          1191861 non-null  int32  \n",
      " 6   home_metro_id            642447 non-null   float32\n",
      " 7   add_info                 1044688 non-null  object \n",
      " 8   status_id                1191861 non-null  int32  \n",
      " 9   planned_lesson_number    1191861 non-null  int32  \n",
      " 10  creator_id               579698 non-null   float32\n",
      " 11  pupil_category_new_id    1032470 non-null  float32\n",
      " 12  lessons_per_week         1191861 non-null  int32  \n",
      " 13  minimal_price            1191861 non-null  int32  \n",
      " 14  teacher_sex              1191861 non-null  int32  \n",
      " 15  teacher_experience_from  1191861 non-null  int32  \n",
      " 16  teacher_experience_to    1191861 non-null  int32  \n",
      " 17  lesson_place_new         1191861 non-null  int32  \n",
      " 18  pupil_knowledgelvl       1191861 non-null  int32  \n",
      " 19  teacher_age_from         1191861 non-null  int32  \n",
      " 20  teacher_age_to           1191861 non-null  int32  \n",
      " 21  chosen_teachers_only     1191861 non-null  int8   \n",
      " 22  no_teachers_available    1191861 non-null  int8   \n",
      " 23  source_id                1191861 non-null  int32  \n",
      " 24  original_order_id        582588 non-null   float32\n",
      " 25  client_id                1191861 non-null  int32  \n",
      " 26  is_display_to_teachers   1191861 non-null  int8   \n",
      " 27  creator_id_new           579698 non-null   float64\n",
      "dtypes: float32(5), float64(1), int32(16), int8(3), object(3)\n",
      "memory usage: 144.4+ MB\n"
     ]
    }
   ],
   "source": [
    "new_ord = data_ord.merge(cid, how='left')\n",
    "new_ord.info()"
   ]
  },
  {
   "cell_type": "markdown",
   "id": "1a20a36a",
   "metadata": {},
   "source": [
    "Теперь в новом столбцах creator_id и creator_id_new пропуски заменим нулями."
   ]
  },
  {
   "cell_type": "code",
   "execution_count": 26,
   "id": "ed9f753e",
   "metadata": {},
   "outputs": [],
   "source": [
    "#new_ord = new_ord.drop(['creator_id'], axis=1)"
   ]
  },
  {
   "cell_type": "code",
   "execution_count": 27,
   "id": "005f201b",
   "metadata": {},
   "outputs": [],
   "source": [
    "new_ord['creator_id'] = new_ord['creator_id'].fillna(0)"
   ]
  },
  {
   "cell_type": "code",
   "execution_count": 28,
   "id": "286ca38c",
   "metadata": {},
   "outputs": [],
   "source": [
    "new_ord['creator_id_new'] = new_ord['creator_id_new'].fillna(0)"
   ]
  },
  {
   "cell_type": "code",
   "execution_count": 29,
   "id": "b63f7399",
   "metadata": {},
   "outputs": [
    {
     "data": {
      "text/plain": [
       "array([0., 2., 1.])"
      ]
     },
     "execution_count": 29,
     "metadata": {},
     "output_type": "execute_result"
    }
   ],
   "source": [
    "new_ord['creator_id_new'].unique()"
   ]
  },
  {
   "cell_type": "markdown",
   "id": "b029cb3d",
   "metadata": {},
   "source": [
    "### Изучим столбцы c текстовой формацией purpose и add_info"
   ]
  },
  {
   "cell_type": "code",
   "execution_count": 30,
   "id": "6468ba04",
   "metadata": {},
   "outputs": [
    {
     "name": "stdout",
     "output_type": "stream",
     "text": [
      "Разделы:  школьный курс.\n",
      "Категория ученика: школьник 9 класса.\n",
      "Цель занятий: помощь по школьной программе.\n"
     ]
    }
   ],
   "source": [
    "print(new_ord.iloc[3]['purpose'])"
   ]
  },
  {
   "cell_type": "code",
   "execution_count": 31,
   "id": "da63bfce",
   "metadata": {},
   "outputs": [
    {
     "name": "stdout",
     "output_type": "stream",
     "text": [
      "Место проведения занятий: дистанционно (например, Skype).\n",
      "Предполагаемое число занятий в неделю: 1-2, вторник, четверг с 17, суббота с 14.\n",
      "Опыт репетитора: от 5 лет.\n",
      "Возраст репетитора: от 20 лет до 90 лет.\n",
      "Пол репетитора: не имеет значения.\n",
      "Статус репетитора: школьный преподаватель.\n"
     ]
    }
   ],
   "source": [
    "print(new_ord.iloc[3]['add_info'])"
   ]
  },
  {
   "cell_type": "markdown",
   "id": "e2ee008e",
   "metadata": {},
   "source": [
    "В данных столбцах содержится уточняющая информация, что говорит либо об обработке заявки оператором (уточнить у заказчика), либо это дополнительная информация, которая заполняется учеником по желаню. Предлагаем создать новые столбцы, где пропуски заменить 0, а ячейки с кoмментариями - единицами."
   ]
  },
  {
   "cell_type": "code",
   "execution_count": 32,
   "id": "5ee96a32",
   "metadata": {},
   "outputs": [],
   "source": [
    "new_ord[['purpose', 'add_info']] = new_ord[['purpose', 'add_info']].fillna(0)"
   ]
  },
  {
   "cell_type": "code",
   "execution_count": 33,
   "id": "9f995231",
   "metadata": {},
   "outputs": [],
   "source": [
    "new_ord[['purpose_new', 'add_info_new']] = new_ord[['purpose', 'add_info']]"
   ]
  },
  {
   "cell_type": "code",
   "execution_count": 34,
   "id": "886f4fe4",
   "metadata": {},
   "outputs": [
    {
     "name": "stderr",
     "output_type": "stream",
     "text": [
      "/tmp/ipykernel_1681/627766536.py:1: SettingWithCopyWarning: \n",
      "A value is trying to be set on a copy of a slice from a DataFrame\n",
      "\n",
      "See the caveats in the documentation: https://pandas.pydata.org/pandas-docs/stable/user_guide/indexing.html#returning-a-view-versus-a-copy\n",
      "  new_ord['purpose'].loc[new_ord['purpose'] != 0] = 1\n"
     ]
    }
   ],
   "source": [
    "new_ord['purpose'].loc[new_ord['purpose'] != 0] = 1"
   ]
  },
  {
   "cell_type": "code",
   "execution_count": 35,
   "id": "7c5ec00b",
   "metadata": {},
   "outputs": [
    {
     "name": "stderr",
     "output_type": "stream",
     "text": [
      "/tmp/ipykernel_1681/997612894.py:1: SettingWithCopyWarning: \n",
      "A value is trying to be set on a copy of a slice from a DataFrame\n",
      "\n",
      "See the caveats in the documentation: https://pandas.pydata.org/pandas-docs/stable/user_guide/indexing.html#returning-a-view-versus-a-copy\n",
      "  new_ord['add_info'].loc[new_ord['add_info'] != 0] = 1\n"
     ]
    }
   ],
   "source": [
    "new_ord['add_info'].loc[new_ord['add_info'] != 0] = 1"
   ]
  },
  {
   "cell_type": "code",
   "execution_count": 36,
   "id": "618aee21",
   "metadata": {},
   "outputs": [],
   "source": [
    "#new_ord.head(5)"
   ]
  },
  {
   "cell_type": "markdown",
   "id": "e93af5d9",
   "metadata": {},
   "source": [
    "#### Обработаем столбец add_info_new"
   ]
  },
  {
   "cell_type": "code",
   "execution_count": 37,
   "id": "44fa4830",
   "metadata": {},
   "outputs": [],
   "source": [
    "new_ord['add_info_new'] = new_ord['add_info_new'].astype(str)"
   ]
  },
  {
   "cell_type": "code",
   "execution_count": 38,
   "id": "e612415e",
   "metadata": {},
   "outputs": [],
   "source": [
    "add_info = new_ord\n",
    "#add_info.info()"
   ]
  },
  {
   "cell_type": "markdown",
   "id": "ffbf7215",
   "metadata": {},
   "source": [
    "Приведем текст к нижнему регистру"
   ]
  },
  {
   "cell_type": "code",
   "execution_count": 39,
   "id": "18b6dbc2",
   "metadata": {},
   "outputs": [],
   "source": [
    "add_info['add_info_new'] = add_info['add_info_new'].str.lower()"
   ]
  },
  {
   "cell_type": "code",
   "execution_count": 40,
   "id": "75477d20",
   "metadata": {},
   "outputs": [],
   "source": [
    "#add_info['add_info'] = add_info['add_info'].apply(str)"
   ]
  },
  {
   "cell_type": "markdown",
   "id": "2ca5b84e",
   "metadata": {},
   "source": [
    "Очистим текст, оставим только слова английского алфавита "
   ]
  },
  {
   "cell_type": "code",
   "execution_count": 41,
   "id": "6b972a6e",
   "metadata": {},
   "outputs": [],
   "source": [
    "def clear_text1(text):\n",
    "    clean = re.compile('<.*?>')\n",
    "    lemm_engl = re.sub(clean,' ', text)\n",
    "    lemm_engl = re.sub(r'[^a-z]',' ', lemm_engl)\n",
    "    lemm_no_space = lemm_engl.split()\n",
    "    lemm = \" \".join(lemm_no_space)\n",
    "    return lemm"
   ]
  },
  {
   "cell_type": "code",
   "execution_count": 42,
   "id": "2022fe8c",
   "metadata": {},
   "outputs": [],
   "source": [
    "tqdm.pandas(desc=\"progress\")"
   ]
  },
  {
   "cell_type": "code",
   "execution_count": 43,
   "id": "85b802e6",
   "metadata": {},
   "outputs": [
    {
     "name": "stderr",
     "output_type": "stream",
     "text": [
      "progress: 100%|██████████| 1191861/1191861 [02:20<00:00, 8454.94it/s] \n"
     ]
    }
   ],
   "source": [
    "add_info['add_info_engl'] = add_info['add_info_new'].progress_apply(clear_text1)"
   ]
  },
  {
   "cell_type": "code",
   "execution_count": 44,
   "id": "45a36618",
   "metadata": {},
   "outputs": [
    {
     "data": {
      "text/plain": [
       "array(['', 'skype', 'skype whatsapp telegram', ...,\n",
       "       'hello i am looking for teacher for my son he is gr and currently straggle with some concepts he is fluent in russian but terminology should be in english if you are interested please contact me by email nataliia uvarova yahoo ca nataliia c',\n",
       "       'sparql', 'pandas numpy'], dtype=object)"
      ]
     },
     "execution_count": 44,
     "metadata": {},
     "output_type": "execute_result"
    }
   ],
   "source": [
    "add_info['add_info_engl'].unique()"
   ]
  },
  {
   "cell_type": "code",
   "execution_count": 45,
   "id": "ec755b74",
   "metadata": {},
   "outputs": [],
   "source": [
    "#pd.set_option(\"display.max_rows\", None)"
   ]
  },
  {
   "cell_type": "code",
   "execution_count": 46,
   "id": "066fbf81",
   "metadata": {},
   "outputs": [
    {
     "data": {
      "text/html": [
       "<div>\n",
       "<style scoped>\n",
       "    .dataframe tbody tr th:only-of-type {\n",
       "        vertical-align: middle;\n",
       "    }\n",
       "\n",
       "    .dataframe tbody tr th {\n",
       "        vertical-align: top;\n",
       "    }\n",
       "\n",
       "    .dataframe thead th {\n",
       "        text-align: right;\n",
       "    }\n",
       "</style>\n",
       "<table border=\"1\" class=\"dataframe\">\n",
       "  <thead>\n",
       "    <tr style=\"text-align: right;\">\n",
       "      <th></th>\n",
       "      <th>index</th>\n",
       "      <th>add_info_engl</th>\n",
       "    </tr>\n",
       "  </thead>\n",
       "  <tbody>\n",
       "    <tr>\n",
       "      <th>0</th>\n",
       "      <td></td>\n",
       "      <td>807128</td>\n",
       "    </tr>\n",
       "    <tr>\n",
       "      <th>1</th>\n",
       "      <td>skype</td>\n",
       "      <td>367952</td>\n",
       "    </tr>\n",
       "    <tr>\n",
       "      <th>2</th>\n",
       "      <td>c</td>\n",
       "      <td>5417</td>\n",
       "    </tr>\n",
       "    <tr>\n",
       "      <th>3</th>\n",
       "      <td>c rub</td>\n",
       "      <td>2822</td>\n",
       "    </tr>\n",
       "    <tr>\n",
       "      <th>4</th>\n",
       "      <td>online skype</td>\n",
       "      <td>965</td>\n",
       "    </tr>\n",
       "    <tr>\n",
       "      <th>...</th>\n",
       "      <td>...</td>\n",
       "      <td>...</td>\n",
       "    </tr>\n",
       "    <tr>\n",
       "      <th>1565</th>\n",
       "      <td>c asp net core c rub</td>\n",
       "      <td>1</td>\n",
       "    </tr>\n",
       "    <tr>\n",
       "      <th>1566</th>\n",
       "      <td>we are looking for a fluent enligh guy or girl...</td>\n",
       "      <td>1</td>\n",
       "    </tr>\n",
       "    <tr>\n",
       "      <th>1567</th>\n",
       "      <td>onlain</td>\n",
       "      <td>1</td>\n",
       "    </tr>\n",
       "    <tr>\n",
       "      <th>1568</th>\n",
       "      <td>https www virtualacademy ru teacher ysclid lec...</td>\n",
       "      <td>1</td>\n",
       "    </tr>\n",
       "    <tr>\n",
       "      <th>1569</th>\n",
       "      <td>pandas numpy</td>\n",
       "      <td>1</td>\n",
       "    </tr>\n",
       "  </tbody>\n",
       "</table>\n",
       "<p>1570 rows × 2 columns</p>\n",
       "</div>"
      ],
      "text/plain": [
       "                                                  index  add_info_engl\n",
       "0                                                               807128\n",
       "1                                                 skype         367952\n",
       "2                                                     c           5417\n",
       "3                                                 c rub           2822\n",
       "4                                          online skype            965\n",
       "...                                                 ...            ...\n",
       "1565                               c asp net core c rub              1\n",
       "1566  we are looking for a fluent enligh guy or girl...              1\n",
       "1567                                             onlain              1\n",
       "1568  https www virtualacademy ru teacher ysclid lec...              1\n",
       "1569                                       pandas numpy              1\n",
       "\n",
       "[1570 rows x 2 columns]"
      ]
     },
     "execution_count": 46,
     "metadata": {},
     "output_type": "execute_result"
    }
   ],
   "source": [
    "add_info['add_info_engl'].value_counts().reset_index()"
   ]
  },
  {
   "cell_type": "markdown",
   "id": "451aef93",
   "metadata": {},
   "source": [
    "Создадим дополнительный признак на основе содержщейся в столбце информации на русском языке - дистанционно или очно проходят занятия. Для этого уберем из столбца всю информацию  на английском, найдем слова дистанционно и район."
   ]
  },
  {
   "cell_type": "code",
   "execution_count": 47,
   "id": "0c2e27d3",
   "metadata": {},
   "outputs": [],
   "source": [
    "def clear_text(text):\n",
    "    lemm_engl = re.sub(r'[^а-я^0-9^\\n]', ' ', text)\n",
    "    lemm_no_space = lemm_engl.split()\n",
    "    lemm = \" \".join(lemm_no_space)\n",
    "    return lemm"
   ]
  },
  {
   "cell_type": "code",
   "execution_count": 48,
   "id": "5fddca10",
   "metadata": {},
   "outputs": [],
   "source": [
    "tqdm.pandas(desc=\"progress\")"
   ]
  },
  {
   "cell_type": "code",
   "execution_count": 49,
   "id": "972db707",
   "metadata": {},
   "outputs": [
    {
     "name": "stderr",
     "output_type": "stream",
     "text": [
      "progress: 100%|██████████| 1191861/1191861 [00:54<00:00, 21987.95it/s]\n"
     ]
    }
   ],
   "source": [
    "add_info['add_info_ru'] = add_info['add_info_new'].progress_apply(clear_text) "
   ]
  },
  {
   "cell_type": "code",
   "execution_count": 50,
   "id": "15470d75",
   "metadata": {},
   "outputs": [],
   "source": [
    "def find_text(text):\n",
    "    f_text = re.findall(r'дистанцион', text)\n",
    "    lemm = \" \".join(f_text)\n",
    "    f1_text = re.findall(r'район', text)\n",
    "    lemm1 = \" \".join(f1_text)\n",
    "    return lemm + \" \" +lemm1"
   ]
  },
  {
   "cell_type": "code",
   "execution_count": 51,
   "id": "2abef035",
   "metadata": {},
   "outputs": [
    {
     "name": "stderr",
     "output_type": "stream",
     "text": [
      "progress: 100%|██████████| 1191861/1191861 [00:09<00:00, 132349.68it/s]\n"
     ]
    }
   ],
   "source": [
    "add_info['add_info_dist'] = add_info['add_info_new'].progress_apply(find_text) "
   ]
  },
  {
   "cell_type": "code",
   "execution_count": 52,
   "id": "d6836487",
   "metadata": {},
   "outputs": [],
   "source": [
    "#add_info.info()"
   ]
  },
  {
   "cell_type": "markdown",
   "id": "5126060b",
   "metadata": {},
   "source": [
    "Присвоим значению дистанционно - 1, а район - 2"
   ]
  },
  {
   "cell_type": "code",
   "execution_count": 53,
   "id": "5d06a808",
   "metadata": {},
   "outputs": [],
   "source": [
    "def find4_text(text):\n",
    "    lemm=0\n",
    "    lemm1=0\n",
    "    if re.findall(r'дистанцион|$', str(text))[0]:\n",
    "        lemm = 1\n",
    "    if re.findall(r'район|$', str(text))[0]:\n",
    "        lemm1 = 2\n",
    "    return lemm+lemm1"
   ]
  },
  {
   "cell_type": "code",
   "execution_count": 54,
   "id": "609f601a",
   "metadata": {},
   "outputs": [
    {
     "name": "stderr",
     "output_type": "stream",
     "text": [
      "progress: 100%|██████████| 1191861/1191861 [00:13<00:00, 87664.28it/s] \n"
     ]
    }
   ],
   "source": [
    "add_info['add_info_dist1'] = add_info['add_info_dist'].progress_apply(find4_text)"
   ]
  },
  {
   "cell_type": "code",
   "execution_count": 55,
   "id": "ab901878",
   "metadata": {},
   "outputs": [
    {
     "data": {
      "text/plain": [
       "array([0, 1, 2, 3])"
      ]
     },
     "execution_count": 55,
     "metadata": {},
     "output_type": "execute_result"
    }
   ],
   "source": [
    "add_info['add_info_dist1'].unique()"
   ]
  },
  {
   "cell_type": "markdown",
   "id": "cff8a47a",
   "metadata": {},
   "source": [
    "Создадим дополнительный признак - столбец с информацией, какими мессенджерами предлагает общаться клиент и посчитаем их количество."
   ]
  },
  {
   "cell_type": "code",
   "execution_count": 56,
   "id": "9fad02ae",
   "metadata": {},
   "outputs": [],
   "source": [
    "def find_skype(text):\n",
    "    f_text = re.findall(r'skype|$', text)[0]\n",
    "    lemm = \"\".join(f_text)\n",
    "    f1_text = re.findall(r'zoom|$', text)[0]\n",
    "    lemm1 = \"\".join(f1_text)\n",
    "    f2_text = re.findall(r'whatsapp', text)\n",
    "    lemm2 = \" \".join(f2_text)\n",
    "    f3_text = re.findall(r'telegram', text)\n",
    "    lemm3 = \" \".join(f3_text)\n",
    "    result_lemm = lemm + \" \" + lemm1 + \" \" + lemm2 + \" \" + lemm3\n",
    "    return result_lemm.strip()"
   ]
  },
  {
   "cell_type": "code",
   "execution_count": 57,
   "id": "7182de98",
   "metadata": {},
   "outputs": [
    {
     "name": "stderr",
     "output_type": "stream",
     "text": [
      "progress: 100%|██████████| 1191861/1191861 [00:16<00:00, 70113.64it/s]\n"
     ]
    }
   ],
   "source": [
    "add_info['add_info_engl1'] = add_info['add_info_engl'].progress_apply(find_skype) "
   ]
  },
  {
   "cell_type": "code",
   "execution_count": 58,
   "id": "01c76091",
   "metadata": {},
   "outputs": [
    {
     "data": {
      "text/plain": [
       "array(['', 'skype', 'skype  whatsapp telegram', 'skype  whatsapp',\n",
       "       'whatsapp', 'zoom', 'zoom whatsapp', 'skype zoom whatsapp',\n",
       "       'skype zoom', 'skype   telegram', 'skype  whatsapp whatsapp',\n",
       "       'telegram', 'whatsapp whatsapp',\n",
       "       'skype  whatsapp whatsapp telegram', 'whatsapp telegram',\n",
       "       'skype zoom  telegram'], dtype=object)"
      ]
     },
     "execution_count": 58,
     "metadata": {},
     "output_type": "execute_result"
    }
   ],
   "source": [
    "add_info['add_info_engl1'].unique()"
   ]
  },
  {
   "cell_type": "code",
   "execution_count": 59,
   "id": "d25dd9d4",
   "metadata": {},
   "outputs": [],
   "source": [
    "add_info['number_of_messangers'] = add_info['add_info_engl1'].str.split().str.len()\n",
    "#add_info['new_column'] = add_info['new_column'].str.len()\n",
    "#add_info['new_column'] = add_info['add_info_engl1'].apply(len)-3"
   ]
  },
  {
   "cell_type": "code",
   "execution_count": 60,
   "id": "6203b377",
   "metadata": {
    "scrolled": true
   },
   "outputs": [
    {
     "data": {
      "text/plain": [
       "array([0, 1, 3, 2, 4])"
      ]
     },
     "execution_count": 60,
     "metadata": {},
     "output_type": "execute_result"
    }
   ],
   "source": [
    "add_info['number_of_messangers'].unique()"
   ]
  },
  {
   "cell_type": "markdown",
   "id": "d6b2f957",
   "metadata": {},
   "source": [
    "Удалим неинформативные более столбцы"
   ]
  },
  {
   "cell_type": "code",
   "execution_count": 61,
   "id": "e8fa06bc",
   "metadata": {},
   "outputs": [],
   "source": [
    "add_info = add_info.drop(columns=['add_info_engl', 'add_info_ru', 'add_info_engl1'], axis=1)"
   ]
  },
  {
   "cell_type": "code",
   "execution_count": 62,
   "id": "01c05cbb",
   "metadata": {},
   "outputs": [],
   "source": [
    "#pd.set_option('display.max_colwidth', None)\n",
    "#pd.set_option('display.max_columns', None)"
   ]
  },
  {
   "cell_type": "markdown",
   "id": "a170cca4",
   "metadata": {},
   "source": [
    "#### Обработаем столбец purpose_new"
   ]
  },
  {
   "cell_type": "markdown",
   "id": "bd526a03",
   "metadata": {},
   "source": [
    "Очистим текст и приведем к нижнему регистру"
   ]
  },
  {
   "cell_type": "code",
   "execution_count": 63,
   "id": "c35d74e1",
   "metadata": {},
   "outputs": [],
   "source": [
    "add_info['purpose_new'] = add_info['purpose_new'].astype(str).str.lower()"
   ]
  },
  {
   "cell_type": "code",
   "execution_count": 64,
   "id": "ab7ff92d",
   "metadata": {},
   "outputs": [],
   "source": [
    "def clear_text5(text):\n",
    "    clean = re.compile('<.*?>')\n",
    "    lemm_engl = re.sub(clean,' ', str(text))\n",
    "    lemm_no_space = lemm_engl.split()\n",
    "    lemm = \" \".join(lemm_no_space)\n",
    "    return lemm"
   ]
  },
  {
   "cell_type": "code",
   "execution_count": 65,
   "id": "ed040266",
   "metadata": {},
   "outputs": [
    {
     "name": "stderr",
     "output_type": "stream",
     "text": [
      "progress: 100%|██████████| 1191861/1191861 [00:13<00:00, 87239.20it/s] \n"
     ]
    }
   ],
   "source": [
    "add_info['purpose_new'] = add_info['purpose_new'].progress_apply(clear_text5)"
   ]
  },
  {
   "cell_type": "markdown",
   "id": "bb66a933",
   "metadata": {},
   "source": [
    "Найдем в столбце слова студент, школьник, взрослый и вынесем их в отдельный столбец, закодировав числами 1, 2 и 4 соответсвенно"
   ]
  },
  {
   "cell_type": "code",
   "execution_count": 66,
   "id": "8bf039ca",
   "metadata": {},
   "outputs": [],
   "source": [
    "def find3_text(text):\n",
    "    clean = re.compile('<.*?>')\n",
    "    cl1 = re.sub(clean,' ', str(text))\n",
    "    lemm_no_space = cl1.split()\n",
    "    lemm=0\n",
    "    lemm1=0\n",
    "    lemm2 = 0\n",
    "    if re.findall(r'студент|$', str(lemm_no_space))[0]:\n",
    "        lemm = 1\n",
    "    if re.findall(r'школьн|$', str(lemm_no_space))[0]:\n",
    "        lemm1 = 2\n",
    "    if re.findall(r'взрос|$', str(lemm_no_space))[0]:\n",
    "        lemm2 = 4\n",
    "    return lemm+lemm1+lemm2"
   ]
  },
  {
   "cell_type": "code",
   "execution_count": 67,
   "id": "2b6b2fe1",
   "metadata": {},
   "outputs": [
    {
     "name": "stderr",
     "output_type": "stream",
     "text": [
      "progress: 100%|██████████| 1191861/1191861 [01:11<00:00, 16636.35it/s]\n"
     ]
    }
   ],
   "source": [
    "add_info['student'] = add_info['purpose_new'].progress_apply(find3_text)"
   ]
  },
  {
   "cell_type": "code",
   "execution_count": 68,
   "id": "ba5a8c54",
   "metadata": {},
   "outputs": [
    {
     "data": {
      "text/plain": [
       "array([0, 1, 2, 6, 4, 3, 5, 7])"
      ]
     },
     "execution_count": 68,
     "metadata": {},
     "output_type": "execute_result"
    }
   ],
   "source": [
    "add_info['student'].unique()"
   ]
  },
  {
   "cell_type": "code",
   "execution_count": 69,
   "id": "3e088a47",
   "metadata": {},
   "outputs": [],
   "source": [
    "add_info_new = add_info"
   ]
  },
  {
   "cell_type": "code",
   "execution_count": 70,
   "id": "26bebf10",
   "metadata": {},
   "outputs": [],
   "source": [
    "add_info_new = add_info_new.drop(columns=['add_info_dist'], axis=1)"
   ]
  },
  {
   "cell_type": "code",
   "execution_count": 71,
   "id": "e21ab836",
   "metadata": {},
   "outputs": [
    {
     "data": {
      "text/html": [
       "<div>\n",
       "<style scoped>\n",
       "    .dataframe tbody tr th:only-of-type {\n",
       "        vertical-align: middle;\n",
       "    }\n",
       "\n",
       "    .dataframe tbody tr th {\n",
       "        vertical-align: top;\n",
       "    }\n",
       "\n",
       "    .dataframe thead th {\n",
       "        text-align: right;\n",
       "    }\n",
       "</style>\n",
       "<table border=\"1\" class=\"dataframe\">\n",
       "  <thead>\n",
       "    <tr style=\"text-align: right;\">\n",
       "      <th></th>\n",
       "      <th>id</th>\n",
       "      <th>order_date</th>\n",
       "      <th>subject_id</th>\n",
       "      <th>purpose</th>\n",
       "      <th>lesson_price</th>\n",
       "      <th>lesson_duration</th>\n",
       "      <th>home_metro_id</th>\n",
       "      <th>add_info</th>\n",
       "      <th>status_id</th>\n",
       "      <th>planned_lesson_number</th>\n",
       "      <th>creator_id</th>\n",
       "      <th>pupil_category_new_id</th>\n",
       "      <th>lessons_per_week</th>\n",
       "      <th>minimal_price</th>\n",
       "      <th>teacher_sex</th>\n",
       "      <th>teacher_experience_from</th>\n",
       "      <th>teacher_experience_to</th>\n",
       "      <th>lesson_place_new</th>\n",
       "      <th>pupil_knowledgelvl</th>\n",
       "      <th>teacher_age_from</th>\n",
       "      <th>teacher_age_to</th>\n",
       "      <th>chosen_teachers_only</th>\n",
       "      <th>no_teachers_available</th>\n",
       "      <th>source_id</th>\n",
       "      <th>original_order_id</th>\n",
       "      <th>client_id</th>\n",
       "      <th>is_display_to_teachers</th>\n",
       "      <th>creator_id_new</th>\n",
       "      <th>purpose_new</th>\n",
       "      <th>add_info_new</th>\n",
       "      <th>add_info_dist1</th>\n",
       "      <th>number_of_messangers</th>\n",
       "      <th>student</th>\n",
       "    </tr>\n",
       "  </thead>\n",
       "  <tbody>\n",
       "    <tr>\n",
       "      <th>0</th>\n",
       "      <td>2294054</td>\n",
       "      <td>2022-11-01 00:01:38.237</td>\n",
       "      <td>1.0</td>\n",
       "      <td>0</td>\n",
       "      <td>0</td>\n",
       "      <td>60</td>\n",
       "      <td>NaN</td>\n",
       "      <td>0</td>\n",
       "      <td>16</td>\n",
       "      <td>0</td>\n",
       "      <td>0.0</td>\n",
       "      <td>NaN</td>\n",
       "      <td>0</td>\n",
       "      <td>0</td>\n",
       "      <td>3</td>\n",
       "      <td>0</td>\n",
       "      <td>0</td>\n",
       "      <td>0</td>\n",
       "      <td>0</td>\n",
       "      <td>0</td>\n",
       "      <td>0</td>\n",
       "      <td>0</td>\n",
       "      <td>0</td>\n",
       "      <td>18</td>\n",
       "      <td>2294000.0</td>\n",
       "      <td>675960</td>\n",
       "      <td>1</td>\n",
       "      <td>0.0</td>\n",
       "      <td>0</td>\n",
       "      <td>0</td>\n",
       "      <td>0</td>\n",
       "      <td>0</td>\n",
       "      <td>0</td>\n",
       "    </tr>\n",
       "    <tr>\n",
       "      <th>1</th>\n",
       "      <td>2294055</td>\n",
       "      <td>2022-11-01 00:03:11.753</td>\n",
       "      <td>1.0</td>\n",
       "      <td>0</td>\n",
       "      <td>0</td>\n",
       "      <td>60</td>\n",
       "      <td>NaN</td>\n",
       "      <td>0</td>\n",
       "      <td>7</td>\n",
       "      <td>0</td>\n",
       "      <td>0.0</td>\n",
       "      <td>NaN</td>\n",
       "      <td>0</td>\n",
       "      <td>0</td>\n",
       "      <td>3</td>\n",
       "      <td>0</td>\n",
       "      <td>0</td>\n",
       "      <td>0</td>\n",
       "      <td>0</td>\n",
       "      <td>0</td>\n",
       "      <td>0</td>\n",
       "      <td>0</td>\n",
       "      <td>0</td>\n",
       "      <td>18</td>\n",
       "      <td>2294000.0</td>\n",
       "      <td>675960</td>\n",
       "      <td>1</td>\n",
       "      <td>0.0</td>\n",
       "      <td>0</td>\n",
       "      <td>0</td>\n",
       "      <td>0</td>\n",
       "      <td>0</td>\n",
       "      <td>0</td>\n",
       "    </tr>\n",
       "    <tr>\n",
       "      <th>2</th>\n",
       "      <td>2294056</td>\n",
       "      <td>2022-11-01 00:04:01.563</td>\n",
       "      <td>21.0</td>\n",
       "      <td>1</td>\n",
       "      <td>800</td>\n",
       "      <td>60</td>\n",
       "      <td>NaN</td>\n",
       "      <td>1</td>\n",
       "      <td>16</td>\n",
       "      <td>7</td>\n",
       "      <td>0.0</td>\n",
       "      <td>14.0</td>\n",
       "      <td>2</td>\n",
       "      <td>0</td>\n",
       "      <td>3</td>\n",
       "      <td>0</td>\n",
       "      <td>0</td>\n",
       "      <td>4</td>\n",
       "      <td>0</td>\n",
       "      <td>0</td>\n",
       "      <td>0</td>\n",
       "      <td>0</td>\n",
       "      <td>0</td>\n",
       "      <td>23</td>\n",
       "      <td>NaN</td>\n",
       "      <td>1024439</td>\n",
       "      <td>1</td>\n",
       "      <td>0.0</td>\n",
       "      <td>разделы: начертательная геометрия. категория у...</td>\n",
       "      <td>место проведения занятий: дистанционно (наприм...</td>\n",
       "      <td>1</td>\n",
       "      <td>1</td>\n",
       "      <td>1</td>\n",
       "    </tr>\n",
       "    <tr>\n",
       "      <th>3</th>\n",
       "      <td>2294057</td>\n",
       "      <td>2022-11-01 00:08:47.237</td>\n",
       "      <td>8.0</td>\n",
       "      <td>1</td>\n",
       "      <td>700</td>\n",
       "      <td>60</td>\n",
       "      <td>NaN</td>\n",
       "      <td>1</td>\n",
       "      <td>16</td>\n",
       "      <td>10</td>\n",
       "      <td>47749.0</td>\n",
       "      <td>10.0</td>\n",
       "      <td>3</td>\n",
       "      <td>0</td>\n",
       "      <td>3</td>\n",
       "      <td>5</td>\n",
       "      <td>0</td>\n",
       "      <td>4</td>\n",
       "      <td>0</td>\n",
       "      <td>20</td>\n",
       "      <td>90</td>\n",
       "      <td>0</td>\n",
       "      <td>0</td>\n",
       "      <td>14</td>\n",
       "      <td>2293804.0</td>\n",
       "      <td>1024340</td>\n",
       "      <td>1</td>\n",
       "      <td>2.0</td>\n",
       "      <td>разделы: школьный курс. категория ученика: шко...</td>\n",
       "      <td>место проведения занятий: дистанционно (наприм...</td>\n",
       "      <td>1</td>\n",
       "      <td>1</td>\n",
       "      <td>2</td>\n",
       "    </tr>\n",
       "    <tr>\n",
       "      <th>4</th>\n",
       "      <td>2294058</td>\n",
       "      <td>2022-11-01 00:11:49.417</td>\n",
       "      <td>8.0</td>\n",
       "      <td>0</td>\n",
       "      <td>0</td>\n",
       "      <td>60</td>\n",
       "      <td>122.0</td>\n",
       "      <td>0</td>\n",
       "      <td>16</td>\n",
       "      <td>0</td>\n",
       "      <td>0.0</td>\n",
       "      <td>NaN</td>\n",
       "      <td>0</td>\n",
       "      <td>0</td>\n",
       "      <td>0</td>\n",
       "      <td>0</td>\n",
       "      <td>0</td>\n",
       "      <td>2</td>\n",
       "      <td>0</td>\n",
       "      <td>0</td>\n",
       "      <td>0</td>\n",
       "      <td>0</td>\n",
       "      <td>0</td>\n",
       "      <td>16</td>\n",
       "      <td>NaN</td>\n",
       "      <td>1024440</td>\n",
       "      <td>1</td>\n",
       "      <td>0.0</td>\n",
       "      <td>0</td>\n",
       "      <td>0</td>\n",
       "      <td>0</td>\n",
       "      <td>0</td>\n",
       "      <td>0</td>\n",
       "    </tr>\n",
       "  </tbody>\n",
       "</table>\n",
       "</div>"
      ],
      "text/plain": [
       "        id               order_date  subject_id purpose  lesson_price  \\\n",
       "0  2294054  2022-11-01 00:01:38.237         1.0       0             0   \n",
       "1  2294055  2022-11-01 00:03:11.753         1.0       0             0   \n",
       "2  2294056  2022-11-01 00:04:01.563        21.0       1           800   \n",
       "3  2294057  2022-11-01 00:08:47.237         8.0       1           700   \n",
       "4  2294058  2022-11-01 00:11:49.417         8.0       0             0   \n",
       "\n",
       "   lesson_duration  home_metro_id add_info  status_id  planned_lesson_number  \\\n",
       "0               60            NaN        0         16                      0   \n",
       "1               60            NaN        0          7                      0   \n",
       "2               60            NaN        1         16                      7   \n",
       "3               60            NaN        1         16                     10   \n",
       "4               60          122.0        0         16                      0   \n",
       "\n",
       "   creator_id  pupil_category_new_id  lessons_per_week  minimal_price  \\\n",
       "0         0.0                    NaN                 0              0   \n",
       "1         0.0                    NaN                 0              0   \n",
       "2         0.0                   14.0                 2              0   \n",
       "3     47749.0                   10.0                 3              0   \n",
       "4         0.0                    NaN                 0              0   \n",
       "\n",
       "   teacher_sex  teacher_experience_from  teacher_experience_to  \\\n",
       "0            3                        0                      0   \n",
       "1            3                        0                      0   \n",
       "2            3                        0                      0   \n",
       "3            3                        5                      0   \n",
       "4            0                        0                      0   \n",
       "\n",
       "   lesson_place_new  pupil_knowledgelvl  teacher_age_from  teacher_age_to  \\\n",
       "0                 0                   0                 0               0   \n",
       "1                 0                   0                 0               0   \n",
       "2                 4                   0                 0               0   \n",
       "3                 4                   0                20              90   \n",
       "4                 2                   0                 0               0   \n",
       "\n",
       "   chosen_teachers_only  no_teachers_available  source_id  original_order_id  \\\n",
       "0                     0                      0         18          2294000.0   \n",
       "1                     0                      0         18          2294000.0   \n",
       "2                     0                      0         23                NaN   \n",
       "3                     0                      0         14          2293804.0   \n",
       "4                     0                      0         16                NaN   \n",
       "\n",
       "   client_id  is_display_to_teachers  creator_id_new  \\\n",
       "0     675960                       1             0.0   \n",
       "1     675960                       1             0.0   \n",
       "2    1024439                       1             0.0   \n",
       "3    1024340                       1             2.0   \n",
       "4    1024440                       1             0.0   \n",
       "\n",
       "                                         purpose_new  \\\n",
       "0                                                  0   \n",
       "1                                                  0   \n",
       "2  разделы: начертательная геометрия. категория у...   \n",
       "3  разделы: школьный курс. категория ученика: шко...   \n",
       "4                                                  0   \n",
       "\n",
       "                                        add_info_new  add_info_dist1  \\\n",
       "0                                                  0               0   \n",
       "1                                                  0               0   \n",
       "2  место проведения занятий: дистанционно (наприм...               1   \n",
       "3  место проведения занятий: дистанционно (наприм...               1   \n",
       "4                                                  0               0   \n",
       "\n",
       "   number_of_messangers  student  \n",
       "0                     0        0  \n",
       "1                     0        0  \n",
       "2                     1        1  \n",
       "3                     1        2  \n",
       "4                     0        0  "
      ]
     },
     "execution_count": 71,
     "metadata": {},
     "output_type": "execute_result"
    }
   ],
   "source": [
    "add_info_new.head(5)"
   ]
  },
  {
   "cell_type": "markdown",
   "id": "dda59bda",
   "metadata": {},
   "source": [
    "#### Вычислим эмбеддинги для столбцов purpose_new и add_info_new"
   ]
  },
  {
   "cell_type": "code",
   "execution_count": 72,
   "id": "db41dd46",
   "metadata": {},
   "outputs": [],
   "source": [
    "#!python -m spacy download en_core_web_trf"
   ]
  },
  {
   "cell_type": "code",
   "execution_count": 73,
   "id": "6c1c5433-4253-4f52-97d4-b4350ac6aa40",
   "metadata": {},
   "outputs": [],
   "source": [
    "#pip install -U sentence-transformers"
   ]
  },
  {
   "cell_type": "markdown",
   "id": "b3b31f39-ded0-4099-b0d5-65700f1e9463",
   "metadata": {},
   "source": [
    "В связи с тем, что ни мы, ни заказчик не обладаем мощностями, способными применить модели, использующие для вычислений GPU, нами выбрана модель **cointegrated/rubert-tiny2**, производящая вычисления на CPU и имеющая небольшой размер."
   ]
  },
  {
   "cell_type": "code",
   "execution_count": 74,
   "id": "981b4e4e",
   "metadata": {},
   "outputs": [],
   "source": [
    "#model_st = SentenceTransformer('distiluse-base-multilingual-cased')\n",
    "model_st = SentenceTransformer('cointegrated/rubert-tiny2')\n",
    "#model_st = SentenceTransformer('intfloat/multilingual-e5-small')\n",
    "\n",
    "#model = SentenceTransformer('sentence-transformers/paraphrase-multilingual-mpnet-base-v2')\n",
    "#cointegrated/rubert-tiny2\n",
    "#embeddings = model.encode(sentences)"
   ]
  },
  {
   "cell_type": "code",
   "execution_count": 75,
   "id": "201137ae",
   "metadata": {},
   "outputs": [],
   "source": [
    "def get_embeddinngs(text):\n",
    "    return model_st.encode(text, convert_to_numpy=True)"
   ]
  },
  {
   "cell_type": "code",
   "execution_count": 80,
   "id": "6097de18",
   "metadata": {},
   "outputs": [
    {
     "name": "stderr",
     "output_type": "stream",
     "text": [
      "progress: 100%|██████████| 1191861/1191861 [2:41:33<00:00, 122.96it/s] \n"
     ]
    }
   ],
   "source": [
    "add_info_new['purpose_emb'] = add_info_new['purpose_new'].progress_apply(get_embeddinngs)"
   ]
  },
  {
   "cell_type": "code",
   "execution_count": null,
   "id": "66c5a0bf-8bc7-4395-8288-230195520f2c",
   "metadata": {},
   "outputs": [],
   "source": [
    "#add_info_embedings.to_csv('add_info_embedings_purpose.csv', index=False)"
   ]
  },
  {
   "cell_type": "markdown",
   "id": "e9e1be35-f5fa-4800-ad12-7d5135b8657d",
   "metadata": {},
   "source": [
    "##### Снизим размерность эмбеддингов для целей кластеризации."
   ]
  },
  {
   "cell_type": "code",
   "execution_count": 168,
   "id": "ba15a0d9-4f9d-4063-88a1-7f37dc4a321c",
   "metadata": {},
   "outputs": [],
   "source": [
    "df1 = add_info_new.iloc[:]['purpose_emb'].astype(np.uint8,errors='ignore')\n",
    "x12 = np.array(df1.tolist())"
   ]
  },
  {
   "cell_type": "code",
   "execution_count": 179,
   "id": "4532f78e-2895-40ab-81d9-6c19a95aff0b",
   "metadata": {},
   "outputs": [],
   "source": [
    "pca = PCA(n_components=2, random_state=42)\n",
    "emb_15d = pca.fit_transform(x12)"
   ]
  },
  {
   "cell_type": "markdown",
   "id": "412dd4d8-6047-465c-ad99-9162d84e7981",
   "metadata": {},
   "source": [
    "Проведем кластеризацию эмбеддингов, в связи с ограниченными мощностями, будем разделять на 5 кластеров в 2 подхода."
   ]
  },
  {
   "cell_type": "code",
   "execution_count": 181,
   "id": "3f5c4cd8-6847-479e-9606-0758afb306af",
   "metadata": {},
   "outputs": [],
   "source": [
    "kclusterer = KMeansClusterer(\n",
    "        5, distance=nltk.cluster.util.cosine_distance,\n",
    "        repeats=2,avoid_empty_clusters=True)\n",
    "\n",
    "assigned_clusters = kclusterer.cluster(emb_15d, assign_clusters=True)"
   ]
  },
  {
   "cell_type": "code",
   "execution_count": 182,
   "id": "16cc72df-423e-42fc-b989-1fddbb26dfe2",
   "metadata": {},
   "outputs": [],
   "source": [
    "add_info_new['purp_emb_cluster'] = pd.Series(assigned_clusters, index=add_info_new.index)"
   ]
  },
  {
   "cell_type": "markdown",
   "id": "d20073e8-e48c-4bc6-9a81-bbcbd40e91e7",
   "metadata": {},
   "source": [
    "Удали исходный столбец с эмбеддингами для уменьшения размера сохраняемого в дальнейшем файла (столбцы с эмбеддингами можно передавать при построении модели CatBoostC, однако мы не можем воспользоваться этой функцией из-за ограниченных мощностей, в связи с чем будем передавать категориальный признак - кластеры)."
   ]
  },
  {
   "cell_type": "code",
   "execution_count": 184,
   "id": "925d1982-d264-46c0-b850-00823c64d1bf",
   "metadata": {},
   "outputs": [],
   "source": [
    "add_info_new1 = add_info_new.drop(columns=['purpose_emb'])"
   ]
  },
  {
   "cell_type": "code",
   "execution_count": 186,
   "id": "a59b9915-cc2d-44c2-a04a-8bf52abeb0e8",
   "metadata": {},
   "outputs": [
    {
     "name": "stderr",
     "output_type": "stream",
     "text": [
      "huggingface/tokenizers: The current process just got forked, after parallelism has already been used. Disabling parallelism to avoid deadlocks...\n",
      "To disable this warning, you can either:\n",
      "\t- Avoid using `tokenizers` before the fork if possible\n",
      "\t- Explicitly set the environment variable TOKENIZERS_PARALLELISM=(true | false)\n"
     ]
    },
    {
     "name": "stdout",
     "output_type": "stream",
     "text": [
      "Requirement already satisfied: pyarrow in /opt/conda/lib/python3.10/site-packages (11.0.0)\n",
      "Requirement already satisfied: numpy>=1.16.6 in /opt/conda/lib/python3.10/site-packages (from pyarrow) (1.26.4)\n",
      "Note: you may need to restart the kernel to use updated packages.\n"
     ]
    }
   ],
   "source": [
    "#pip install pyarrow"
   ]
  },
  {
   "cell_type": "code",
   "execution_count": 187,
   "id": "6c543d78-4b08-492e-bf02-09740be12312",
   "metadata": {},
   "outputs": [],
   "source": [
    "add_info_new1.to_feather('purp_clust.feather')"
   ]
  },
  {
   "cell_type": "code",
   "execution_count": 188,
   "id": "0b54eebd-13dd-4660-8f9a-f131d2873c60",
   "metadata": {},
   "outputs": [],
   "source": [
    "add_info_new1.to_csv('purp_clust.csv', index=False)"
   ]
  },
  {
   "cell_type": "code",
   "execution_count": 189,
   "id": "23da3640-5149-414e-8f83-7d0c18e2008b",
   "metadata": {},
   "outputs": [
    {
     "name": "stderr",
     "output_type": "stream",
     "text": [
      "progress: 100%|██████████| 1191861/1191861 [3:20:15<00:00, 99.20it/s]  \n"
     ]
    }
   ],
   "source": [
    "add_info_new1['add_info_emb'] = add_info_new1['add_info_new'].progress_apply(get_embeddinngs)"
   ]
  },
  {
   "cell_type": "code",
   "execution_count": 199,
   "id": "ae667e5f-0e2c-4345-896c-f1102a3d0b35",
   "metadata": {},
   "outputs": [],
   "source": [
    "#add_info_new1.head(5)"
   ]
  },
  {
   "cell_type": "code",
   "execution_count": 191,
   "id": "571a2703-8d22-49f7-b4d0-b3a9ab2705e9",
   "metadata": {},
   "outputs": [],
   "source": [
    "df2 = add_info_new1.iloc[:]['add_info_emb'].astype(np.uint8,errors='ignore')\n",
    "x13 = np.array(df2.tolist())"
   ]
  },
  {
   "cell_type": "code",
   "execution_count": 192,
   "id": "2f27d365-cacd-419a-b4f7-608872f748b0",
   "metadata": {},
   "outputs": [],
   "source": [
    "pca1 = PCA(n_components=2, random_state=42)\n",
    "emb_15d2 = pca1.fit_transform(x13)"
   ]
  },
  {
   "cell_type": "code",
   "execution_count": 194,
   "id": "480e6449-6555-4275-ac43-705da79b9280",
   "metadata": {},
   "outputs": [],
   "source": [
    "kclusterer = KMeansClusterer(\n",
    "        5, distance=nltk.cluster.util.cosine_distance,\n",
    "        repeats=2,avoid_empty_clusters=True)\n",
    "\n",
    "assigned_clusters2 = kclusterer.cluster(emb_15d2, assign_clusters=True)"
   ]
  },
  {
   "cell_type": "code",
   "execution_count": 195,
   "id": "3352adf0-f71b-486a-81f7-8a71309cc406",
   "metadata": {},
   "outputs": [],
   "source": [
    "add_info_new1['add_info_emb_cluster'] = pd.Series(assigned_clusters2, index=add_info_new1.index)"
   ]
  },
  {
   "cell_type": "code",
   "execution_count": 196,
   "id": "9ee58484-08e3-467e-aa53-9a2434ddac3f",
   "metadata": {},
   "outputs": [],
   "source": [
    "add_info_new2 = add_info_new1.drop(columns=['add_info_emb'])"
   ]
  },
  {
   "cell_type": "markdown",
   "id": "bcf44ae8-18b2-47ee-82a1-87095ad3ae12",
   "metadata": {},
   "source": [
    "### Сохраним итоговую таблицу для дальнейшей работы"
   ]
  },
  {
   "cell_type": "code",
   "execution_count": 197,
   "id": "e19e53aa-53bd-451e-9d87-19a8a490aac3",
   "metadata": {},
   "outputs": [],
   "source": [
    "add_info_new2.to_feather('add_clust.feather')"
   ]
  },
  {
   "cell_type": "code",
   "execution_count": 198,
   "id": "d6acd523-5759-48bc-9b79-c5c500573064",
   "metadata": {},
   "outputs": [],
   "source": [
    "add_info_new2.to_csv('add_clust.csv', index=False)"
   ]
  },
  {
   "cell_type": "code",
   "execution_count": null,
   "id": "7d971798-b1f5-4612-bfa9-8d14d5d944d0",
   "metadata": {},
   "outputs": [],
   "source": []
  }
 ],
 "metadata": {
  "kernelspec": {
   "display_name": "Python 3 (ipykernel)",
   "language": "python",
   "name": "python3"
  },
  "language_info": {
   "codemirror_mode": {
    "name": "ipython",
    "version": 3
   },
   "file_extension": ".py",
   "mimetype": "text/x-python",
   "name": "python",
   "nbconvert_exporter": "python",
   "pygments_lexer": "ipython3",
   "version": "3.10.10"
  },
  "toc": {
   "base_numbering": 1,
   "nav_menu": {},
   "number_sections": true,
   "sideBar": true,
   "skip_h1_title": true,
   "title_cell": "Table of Contents",
   "title_sidebar": "Contents",
   "toc_cell": true,
   "toc_position": {
    "height": "calc(100% - 180px)",
    "left": "10px",
    "top": "150px",
    "width": "354px"
   },
   "toc_section_display": true,
   "toc_window_display": true
  }
 },
 "nbformat": 4,
 "nbformat_minor": 5
}
